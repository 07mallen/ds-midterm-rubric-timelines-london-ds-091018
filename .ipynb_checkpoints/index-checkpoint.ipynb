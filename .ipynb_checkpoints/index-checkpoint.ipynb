{
 "cells": [
  {
   "cell_type": "markdown",
   "metadata": {},
   "source": [
    "# Midterm Overview\n",
    "We briefly discussed an introduced the Midterm project last class. Further time will be allocated to practice class skills on your dataset. Currently, you should have skills to perform some exploratory analysis and visualizations on your dataset. In the next two weeks you will continue to expand your toolset by learning some introductory machine learning techniques including how to fit and tune a regression model. \n",
    "\n",
    "# Midterm Deadlines / Outline\n",
    "\n",
    "### Class 9: Devoted time to work on project\n",
    "### Class 10 Prework: Finish Project\n",
    "### Class 10 : Project Due\n",
    "During class, we will discuss various solutions and approaches to fitting regression models to the various datasets. This will include initial approaches, measuring model performance, feature engineering and algorithm comparisons."
   ]
  },
  {
   "cell_type": "code",
   "execution_count": null,
   "metadata": {},
   "outputs": [],
   "source": []
  }
 ],
 "metadata": {
  "kernelspec": {
   "display_name": "Python 3",
   "language": "python",
   "name": "python3"
  },
  "language_info": {
   "codemirror_mode": {
    "name": "ipython",
    "version": 3
   },
   "file_extension": ".py",
   "mimetype": "text/x-python",
   "name": "python",
   "nbconvert_exporter": "python",
   "pygments_lexer": "ipython3",
   "version": "3.6.5"
  }
 },
 "nbformat": 4,
 "nbformat_minor": 2
}
